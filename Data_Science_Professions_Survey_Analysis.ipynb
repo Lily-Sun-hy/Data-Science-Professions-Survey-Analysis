{
 "cells": [
  {
   "cell_type": "code",
   "execution_count": 1,
   "metadata": {},
   "outputs": [],
   "source": [
    "#Importing needed libraries\n",
    "\n",
    "import numpy as np\n",
    "import pandas as pd\n",
    "import matplotlib.pyplot as plt\n",
    "import seaborn as sns\n",
    "import os\n",
    "from scipy import stats"
   ]
  },
  {
   "cell_type": "code",
   "execution_count": 2,
   "metadata": {
    "scrolled": true
   },
   "outputs": [
    {
     "data": {
      "text/html": [
       "<div>\n",
       "<style scoped>\n",
       "    .dataframe tbody tr th:only-of-type {\n",
       "        vertical-align: middle;\n",
       "    }\n",
       "\n",
       "    .dataframe tbody tr th {\n",
       "        vertical-align: top;\n",
       "    }\n",
       "\n",
       "    .dataframe thead th {\n",
       "        text-align: right;\n",
       "    }\n",
       "</style>\n",
       "<table border=\"1\" class=\"dataframe\">\n",
       "  <thead>\n",
       "    <tr style=\"text-align: right;\">\n",
       "      <th></th>\n",
       "      <th>Unnamed: 0</th>\n",
       "      <th>Time from Start to Finish (seconds)</th>\n",
       "      <th>Q1</th>\n",
       "      <th>Q2</th>\n",
       "      <th>Q3</th>\n",
       "      <th>Q4</th>\n",
       "      <th>Q5</th>\n",
       "      <th>Q6</th>\n",
       "      <th>Q7_Part_1</th>\n",
       "      <th>Q7_Part_2</th>\n",
       "      <th>...</th>\n",
       "      <th>Q35_B_Part_2</th>\n",
       "      <th>Q35_B_Part_3</th>\n",
       "      <th>Q35_B_Part_4</th>\n",
       "      <th>Q35_B_Part_5</th>\n",
       "      <th>Q35_B_Part_6</th>\n",
       "      <th>Q35_B_Part_7</th>\n",
       "      <th>Q35_B_Part_8</th>\n",
       "      <th>Q35_B_Part_9</th>\n",
       "      <th>Q35_B_Part_10</th>\n",
       "      <th>Q35_B_OTHER</th>\n",
       "    </tr>\n",
       "  </thead>\n",
       "  <tbody>\n",
       "    <tr>\n",
       "      <th>0</th>\n",
       "      <td>1</td>\n",
       "      <td>289287</td>\n",
       "      <td>30-34</td>\n",
       "      <td>Man</td>\n",
       "      <td>United States of America</td>\n",
       "      <td>Master’s degree</td>\n",
       "      <td>Data Engineer</td>\n",
       "      <td>5-10 years</td>\n",
       "      <td>Python</td>\n",
       "      <td>R</td>\n",
       "      <td>...</td>\n",
       "      <td>NaN</td>\n",
       "      <td>NaN</td>\n",
       "      <td>NaN</td>\n",
       "      <td>NaN</td>\n",
       "      <td>NaN</td>\n",
       "      <td>NaN</td>\n",
       "      <td>NaN</td>\n",
       "      <td>NaN</td>\n",
       "      <td>NaN</td>\n",
       "      <td>NaN</td>\n",
       "    </tr>\n",
       "    <tr>\n",
       "      <th>1</th>\n",
       "      <td>2</td>\n",
       "      <td>860</td>\n",
       "      <td>35-39</td>\n",
       "      <td>Man</td>\n",
       "      <td>Argentina</td>\n",
       "      <td>Bachelor’s degree</td>\n",
       "      <td>Software Engineer</td>\n",
       "      <td>10-20 years</td>\n",
       "      <td>NaN</td>\n",
       "      <td>NaN</td>\n",
       "      <td>...</td>\n",
       "      <td>NaN</td>\n",
       "      <td>NaN</td>\n",
       "      <td>NaN</td>\n",
       "      <td>NaN</td>\n",
       "      <td>NaN</td>\n",
       "      <td>NaN</td>\n",
       "      <td>NaN</td>\n",
       "      <td>NaN</td>\n",
       "      <td>None</td>\n",
       "      <td>NaN</td>\n",
       "    </tr>\n",
       "    <tr>\n",
       "      <th>2</th>\n",
       "      <td>3</td>\n",
       "      <td>507</td>\n",
       "      <td>30-34</td>\n",
       "      <td>Man</td>\n",
       "      <td>United States of America</td>\n",
       "      <td>Master’s degree</td>\n",
       "      <td>Data Scientist</td>\n",
       "      <td>5-10 years</td>\n",
       "      <td>Python</td>\n",
       "      <td>NaN</td>\n",
       "      <td>...</td>\n",
       "      <td>NaN</td>\n",
       "      <td>NaN</td>\n",
       "      <td>NaN</td>\n",
       "      <td>NaN</td>\n",
       "      <td>NaN</td>\n",
       "      <td>NaN</td>\n",
       "      <td>NaN</td>\n",
       "      <td>NaN</td>\n",
       "      <td>NaN</td>\n",
       "      <td>NaN</td>\n",
       "    </tr>\n",
       "    <tr>\n",
       "      <th>3</th>\n",
       "      <td>8</td>\n",
       "      <td>762</td>\n",
       "      <td>35-39</td>\n",
       "      <td>Man</td>\n",
       "      <td>Germany</td>\n",
       "      <td>Doctoral degree</td>\n",
       "      <td>Data Scientist</td>\n",
       "      <td>5-10 years</td>\n",
       "      <td>Python</td>\n",
       "      <td>NaN</td>\n",
       "      <td>...</td>\n",
       "      <td>NaN</td>\n",
       "      <td>NaN</td>\n",
       "      <td>NaN</td>\n",
       "      <td>NaN</td>\n",
       "      <td>NaN</td>\n",
       "      <td>NaN</td>\n",
       "      <td>NaN</td>\n",
       "      <td>NaN</td>\n",
       "      <td>NaN</td>\n",
       "      <td>NaN</td>\n",
       "    </tr>\n",
       "    <tr>\n",
       "      <th>4</th>\n",
       "      <td>11</td>\n",
       "      <td>742</td>\n",
       "      <td>35-39</td>\n",
       "      <td>Man</td>\n",
       "      <td>United States of America</td>\n",
       "      <td>Doctoral degree</td>\n",
       "      <td>Research Scientist</td>\n",
       "      <td>1-2 years</td>\n",
       "      <td>NaN</td>\n",
       "      <td>R</td>\n",
       "      <td>...</td>\n",
       "      <td>NaN</td>\n",
       "      <td>NaN</td>\n",
       "      <td>NaN</td>\n",
       "      <td>NaN</td>\n",
       "      <td>NaN</td>\n",
       "      <td>NaN</td>\n",
       "      <td>NaN</td>\n",
       "      <td>NaN</td>\n",
       "      <td>NaN</td>\n",
       "      <td>NaN</td>\n",
       "    </tr>\n",
       "    <tr>\n",
       "      <th>...</th>\n",
       "      <td>...</td>\n",
       "      <td>...</td>\n",
       "      <td>...</td>\n",
       "      <td>...</td>\n",
       "      <td>...</td>\n",
       "      <td>...</td>\n",
       "      <td>...</td>\n",
       "      <td>...</td>\n",
       "      <td>...</td>\n",
       "      <td>...</td>\n",
       "      <td>...</td>\n",
       "      <td>...</td>\n",
       "      <td>...</td>\n",
       "      <td>...</td>\n",
       "      <td>...</td>\n",
       "      <td>...</td>\n",
       "      <td>...</td>\n",
       "      <td>...</td>\n",
       "      <td>...</td>\n",
       "      <td>...</td>\n",
       "      <td>...</td>\n",
       "    </tr>\n",
       "    <tr>\n",
       "      <th>10724</th>\n",
       "      <td>20024</td>\n",
       "      <td>2104</td>\n",
       "      <td>35-39</td>\n",
       "      <td>Man</td>\n",
       "      <td>Malaysia</td>\n",
       "      <td>I prefer not to answer</td>\n",
       "      <td>Machine Learning Engineer</td>\n",
       "      <td>1-2 years</td>\n",
       "      <td>Python</td>\n",
       "      <td>NaN</td>\n",
       "      <td>...</td>\n",
       "      <td>NaN</td>\n",
       "      <td>NaN</td>\n",
       "      <td>NaN</td>\n",
       "      <td>TensorBoard</td>\n",
       "      <td>NaN</td>\n",
       "      <td>NaN</td>\n",
       "      <td>Trains</td>\n",
       "      <td>NaN</td>\n",
       "      <td>NaN</td>\n",
       "      <td>NaN</td>\n",
       "    </tr>\n",
       "    <tr>\n",
       "      <th>10725</th>\n",
       "      <td>20029</td>\n",
       "      <td>5461</td>\n",
       "      <td>35-39</td>\n",
       "      <td>Man</td>\n",
       "      <td>Thailand</td>\n",
       "      <td>Bachelor’s degree</td>\n",
       "      <td>Other</td>\n",
       "      <td>10-20 years</td>\n",
       "      <td>NaN</td>\n",
       "      <td>NaN</td>\n",
       "      <td>...</td>\n",
       "      <td>NaN</td>\n",
       "      <td>NaN</td>\n",
       "      <td>NaN</td>\n",
       "      <td>NaN</td>\n",
       "      <td>NaN</td>\n",
       "      <td>NaN</td>\n",
       "      <td>NaN</td>\n",
       "      <td>NaN</td>\n",
       "      <td>None</td>\n",
       "      <td>NaN</td>\n",
       "    </tr>\n",
       "    <tr>\n",
       "      <th>10726</th>\n",
       "      <td>20033</td>\n",
       "      <td>238</td>\n",
       "      <td>30-34</td>\n",
       "      <td>Man</td>\n",
       "      <td>Brazil</td>\n",
       "      <td>Master’s degree</td>\n",
       "      <td>Research Scientist</td>\n",
       "      <td>&lt; 1 years</td>\n",
       "      <td>Python</td>\n",
       "      <td>NaN</td>\n",
       "      <td>...</td>\n",
       "      <td>NaN</td>\n",
       "      <td>NaN</td>\n",
       "      <td>NaN</td>\n",
       "      <td>NaN</td>\n",
       "      <td>NaN</td>\n",
       "      <td>NaN</td>\n",
       "      <td>NaN</td>\n",
       "      <td>NaN</td>\n",
       "      <td>NaN</td>\n",
       "      <td>NaN</td>\n",
       "    </tr>\n",
       "    <tr>\n",
       "      <th>10727</th>\n",
       "      <td>20034</td>\n",
       "      <td>625</td>\n",
       "      <td>22-24</td>\n",
       "      <td>Man</td>\n",
       "      <td>India</td>\n",
       "      <td>Bachelor’s degree</td>\n",
       "      <td>Software Engineer</td>\n",
       "      <td>3-5 years</td>\n",
       "      <td>Python</td>\n",
       "      <td>NaN</td>\n",
       "      <td>...</td>\n",
       "      <td>Weights &amp; Biases</td>\n",
       "      <td>NaN</td>\n",
       "      <td>NaN</td>\n",
       "      <td>TensorBoard</td>\n",
       "      <td>NaN</td>\n",
       "      <td>NaN</td>\n",
       "      <td>Trains</td>\n",
       "      <td>NaN</td>\n",
       "      <td>NaN</td>\n",
       "      <td>NaN</td>\n",
       "    </tr>\n",
       "    <tr>\n",
       "      <th>10728</th>\n",
       "      <td>20035</td>\n",
       "      <td>1031</td>\n",
       "      <td>22-24</td>\n",
       "      <td>Man</td>\n",
       "      <td>Pakistan</td>\n",
       "      <td>Master’s degree</td>\n",
       "      <td>Machine Learning Engineer</td>\n",
       "      <td>&lt; 1 years</td>\n",
       "      <td>Python</td>\n",
       "      <td>NaN</td>\n",
       "      <td>...</td>\n",
       "      <td>Weights &amp; Biases</td>\n",
       "      <td>NaN</td>\n",
       "      <td>NaN</td>\n",
       "      <td>NaN</td>\n",
       "      <td>NaN</td>\n",
       "      <td>NaN</td>\n",
       "      <td>Trains</td>\n",
       "      <td>NaN</td>\n",
       "      <td>NaN</td>\n",
       "      <td>NaN</td>\n",
       "    </tr>\n",
       "  </tbody>\n",
       "</table>\n",
       "<p>10729 rows × 356 columns</p>\n",
       "</div>"
      ],
      "text/plain": [
       "       Unnamed: 0  Time from Start to Finish (seconds)     Q1   Q2  \\\n",
       "0               1                               289287  30-34  Man   \n",
       "1               2                                  860  35-39  Man   \n",
       "2               3                                  507  30-34  Man   \n",
       "3               8                                  762  35-39  Man   \n",
       "4              11                                  742  35-39  Man   \n",
       "...           ...                                  ...    ...  ...   \n",
       "10724       20024                                 2104  35-39  Man   \n",
       "10725       20029                                 5461  35-39  Man   \n",
       "10726       20033                                  238  30-34  Man   \n",
       "10727       20034                                  625  22-24  Man   \n",
       "10728       20035                                 1031  22-24  Man   \n",
       "\n",
       "                             Q3                      Q4  \\\n",
       "0      United States of America         Master’s degree   \n",
       "1                     Argentina       Bachelor’s degree   \n",
       "2      United States of America         Master’s degree   \n",
       "3                       Germany         Doctoral degree   \n",
       "4      United States of America         Doctoral degree   \n",
       "...                         ...                     ...   \n",
       "10724                  Malaysia  I prefer not to answer   \n",
       "10725                  Thailand       Bachelor’s degree   \n",
       "10726                    Brazil         Master’s degree   \n",
       "10727                     India       Bachelor’s degree   \n",
       "10728                  Pakistan         Master’s degree   \n",
       "\n",
       "                              Q5           Q6 Q7_Part_1 Q7_Part_2  ...  \\\n",
       "0                  Data Engineer   5-10 years    Python         R  ...   \n",
       "1              Software Engineer  10-20 years       NaN       NaN  ...   \n",
       "2                 Data Scientist   5-10 years    Python       NaN  ...   \n",
       "3                 Data Scientist   5-10 years    Python       NaN  ...   \n",
       "4             Research Scientist    1-2 years       NaN         R  ...   \n",
       "...                          ...          ...       ...       ...  ...   \n",
       "10724  Machine Learning Engineer    1-2 years    Python       NaN  ...   \n",
       "10725                      Other  10-20 years       NaN       NaN  ...   \n",
       "10726         Research Scientist    < 1 years    Python       NaN  ...   \n",
       "10727          Software Engineer    3-5 years    Python       NaN  ...   \n",
       "10728  Machine Learning Engineer    < 1 years    Python       NaN  ...   \n",
       "\n",
       "             Q35_B_Part_2 Q35_B_Part_3 Q35_B_Part_4   Q35_B_Part_5  \\\n",
       "0                     NaN          NaN          NaN            NaN   \n",
       "1                     NaN          NaN          NaN            NaN   \n",
       "2                     NaN          NaN          NaN            NaN   \n",
       "3                     NaN          NaN          NaN            NaN   \n",
       "4                     NaN          NaN          NaN            NaN   \n",
       "...                   ...          ...          ...            ...   \n",
       "10724                 NaN          NaN          NaN   TensorBoard    \n",
       "10725                 NaN          NaN          NaN            NaN   \n",
       "10726                 NaN          NaN          NaN            NaN   \n",
       "10727   Weights & Biases           NaN          NaN   TensorBoard    \n",
       "10728   Weights & Biases           NaN          NaN            NaN   \n",
       "\n",
       "      Q35_B_Part_6 Q35_B_Part_7 Q35_B_Part_8 Q35_B_Part_9 Q35_B_Part_10  \\\n",
       "0              NaN          NaN          NaN          NaN           NaN   \n",
       "1              NaN          NaN          NaN          NaN          None   \n",
       "2              NaN          NaN          NaN          NaN           NaN   \n",
       "3              NaN          NaN          NaN          NaN           NaN   \n",
       "4              NaN          NaN          NaN          NaN           NaN   \n",
       "...            ...          ...          ...          ...           ...   \n",
       "10724          NaN          NaN      Trains           NaN           NaN   \n",
       "10725          NaN          NaN          NaN          NaN          None   \n",
       "10726          NaN          NaN          NaN          NaN           NaN   \n",
       "10727          NaN          NaN      Trains           NaN           NaN   \n",
       "10728          NaN          NaN      Trains           NaN           NaN   \n",
       "\n",
       "      Q35_B_OTHER  \n",
       "0             NaN  \n",
       "1             NaN  \n",
       "2             NaN  \n",
       "3             NaN  \n",
       "4             NaN  \n",
       "...           ...  \n",
       "10724         NaN  \n",
       "10725         NaN  \n",
       "10726         NaN  \n",
       "10727         NaN  \n",
       "10728         NaN  \n",
       "\n",
       "[10729 rows x 356 columns]"
      ]
     },
     "execution_count": 2,
     "metadata": {},
     "output_type": "execute_result"
    }
   ],
   "source": [
    "#Read the datafile\n",
    "\n",
    "df = pd.read_csv(\"clean_kaggle_data.csv\", low_memory=False)\n",
    "\n",
    "df"
   ]
  },
  {
   "cell_type": "markdown",
   "metadata": {},
   "source": [
    "### 1. Data exploratory analysis. In this section, Gender VS Education Level, Gender VS Salary, and age are analyzed and corresponding figures are presented."
   ]
  },
  {
   "cell_type": "markdown",
   "metadata": {},
   "source": [
    "a. Plot a bar graph comparing gender vs. education level"
   ]
  },
  {
   "cell_type": "code",
   "execution_count": 3,
   "metadata": {},
   "outputs": [
    {
     "name": "stdout",
     "output_type": "stream",
     "text": [
      "Man                        8872\n",
      "Woman                      1683\n",
      "Prefer not to say           131\n",
      "Prefer to self-describe      23\n",
      "Nonbinary                    20\n",
      "Name: Q2, dtype: int64\n",
      "\n",
      " [8872 1683  131   23   20]\n"
     ]
    }
   ],
   "source": [
    "# 1) Check how many categories exist for gender and the frequency of each category\n",
    "\n",
    "print(df['Q2'].value_counts())\n",
    "\n",
    "#Convert the series to a numpy array\n",
    "gender = df['Q2'].value_counts().to_numpy()\n",
    "print(\"\\n\", gender)"
   ]
  },
  {
   "cell_type": "code",
   "execution_count": 4,
   "metadata": {},
   "outputs": [
    {
     "name": "stdout",
     "output_type": "stream",
     "text": [
      "Master’s degree                                                      4879\n",
      "Bachelor’s degree                                                    3013\n",
      "Doctoral degree                                                      1718\n",
      "Professional degree                                                   470\n",
      "Some college/university study without earning a bachelor’s degree     385\n",
      "I prefer not to answer                                                158\n",
      "No formal education past high school                                  106\n",
      "Name: Q4, dtype: int64\n",
      "\n",
      " [4879 3013 1718  470  385  158  106]\n"
     ]
    }
   ],
   "source": [
    "# 2) Check how many categories exist for education level\n",
    "\n",
    "print(df['Q4'].value_counts())\n",
    "\n",
    "#Convert the series to a numpy array\n",
    "edu = df['Q4'].value_counts().to_numpy()\n",
    "print(\"\\n\", edu)"
   ]
  },
  {
   "cell_type": "code",
   "execution_count": 5,
   "metadata": {},
   "outputs": [],
   "source": [
    "# 3) Extract data based on gender (man and woman ONLY)\n",
    "\n",
    "data1 = df[['Q2','Q4']] #Extracting the gender and education level columns\n",
    "man_edu = data1[data1.Q2 == \"Man\"] #Extracting rows with man ONLY\n",
    "woman_edu = data1[data1.Q2 == \"Woman\"] #Extracting rows with woman ONLY\n",
    "\n",
    "man_edu_val = man_edu['Q4'].value_counts().to_numpy()\n",
    "woman_edu_val = woman_edu['Q4'].value_counts().to_numpy()"
   ]
  },
  {
   "cell_type": "code",
   "execution_count": 6,
   "metadata": {},
   "outputs": [
    {
     "data": {
      "text/plain": [
       "array([[4025, 2519, 1378,  388,  339,  122,  101],\n",
       "       [ 787,  451,  305,   76,   37,   23,    4]])"
      ]
     },
     "execution_count": 6,
     "metadata": {},
     "output_type": "execute_result"
    }
   ],
   "source": [
    "data = np.asarray([man_edu_val, woman_edu_val])\n",
    "data"
   ]
  },
  {
   "cell_type": "code",
   "execution_count": 7,
   "metadata": {
    "scrolled": true
   },
   "outputs": [
    {
     "data": {
      "image/png": "[encoded data removed]",
      "text/plain": [
       "<Figure size 864x720 with 2 Axes>"
      ]
     },
     "metadata": {
      "needs_background": "light"
     },
     "output_type": "display_data"
    }
   ],
   "source": [
    "# 4) Plotting\n",
    "\n",
    "edu_cat = [\"Master's\",\"Bachelor's\",\"Doctoral\",\"Professional\", \n",
    "           \"Some college \\n or university \\n study without \\n earning a \\nbachelor's\", \n",
    "           \"Prefer not \\n to answer\",\"No formal \\n education past \\n high school\"] #Define a list of labels for defining x ticks\n",
    "\n",
    "X = np.arange(len(edu_cat)) #define tick values\n",
    "\n",
    "#Plot the bar graph\n",
    "\n",
    "# Calculate % respondent for each education level\n",
    "man_perc = data[0]/8872*100\n",
    "woman_perc = data[1]/1683*100\n",
    "\n",
    "fig,ax = plt.subplots(2, sharex=True, figsize=(12,10))\n",
    "#ax = fig.add_axes([0,0,1,1])\n",
    "fig1 = ax[0].bar(X-0.125, data[0], color = 'darkturquoise', width = 0.25, label = \"Men\")\n",
    "fig2 = ax[0].bar(X+0.125, data[1], color = 'salmon', width = 0.25, label = \"Women\")\n",
    "fig3 = ax[1].bar(X-0.125, man_perc, color = 'darkturquoise', width=0.25, label = \"Men\")\n",
    "fig4 = ax[1].bar(X+0.125, woman_perc, color = 'salmon', width=0.25, label = \"Women\")\n",
    "fig.tight_layout()\n",
    "\n",
    "#Format the plot area\n",
    "ax[0].grid(axis='y', alpha=0.6)\n",
    "ax[1].grid(axis='y', alpha=0.6)\n",
    "ax[0].legend(loc=\"upper right\", fontsize=13)\n",
    "ax[1].legend(loc=\"upper right\", fontsize=13)\n",
    "ax[1].set_xticks(X)\n",
    "ax[1].set_xticklabels(edu_cat, rotation = 45, fontsize = 12)\n",
    "ax[0].set_ylabel(\"Frequency\", fontsize=15)\n",
    "ax[1].set_ylabel(\"% Respondents\", fontsize=15)\n",
    "fig.suptitle(\"Education Level: Men VS. Women\", fontsize=17)\n",
    "fig.subplots_adjust(top=0.95)\n",
    "\n",
    "plt.show()"
   ]
  },
  {
   "cell_type": "markdown",
   "metadata": {},
   "source": [
    "b. Plot a histogram showing the distribution of salary grouped by men and women"
   ]
  },
  {
   "cell_type": "code",
   "execution_count": 8,
   "metadata": {},
   "outputs": [],
   "source": [
    "\n",
    "\n",
    "# 1) Extract data based on gender (man and woman ONLY)\n",
    "\n",
    "data2 = df[['Q2','Q24']] #Extracting the gender and salary columns\n",
    "man_sal = data2[data2.Q2 == \"Man\"] #Extracting rows with man ONLY\n",
    "woman_sal = data2[data2.Q2 == \"Woman\"] #Extracting rows with woman ONLY\n"
   ]
  },
  {
   "cell_type": "code",
   "execution_count": 9,
   "metadata": {},
   "outputs": [
    {
     "data": {
      "image/png": "[encoded data removed]",
      "text/plain": [
       "<Figure size 864x720 with 2 Axes>"
      ]
     },
     "metadata": {
      "needs_background": "light"
     },
     "output_type": "display_data"
    }
   ],
   "source": [
    "# 2) Plot the distribution of salary among men and women\n",
    "\n",
    "fig,ax = plt.subplots(2, sharex=True, figsize=(12,10))\n",
    "ax[0].hist(man_sal['Q24'], bins=50, alpha=0.7, rwidth=0.8,\n",
    "                color = 'darkturquoise', label=\"Men\")\n",
    "ax[1].hist(woman_sal['Q24'], bins=50, alpha=0.7, rwidth=0.8,\n",
    "                color = 'salmon', label=\"Women\")\n",
    "fig.tight_layout()\n",
    "\n",
    "#Formatting plot area\n",
    "ax[0].grid(axis='y', alpha=0.6)\n",
    "ax[1].grid(axis='y', alpha=0.6)\n",
    "ax[0].set_ylabel(\"Frequency\", fontsize=15)\n",
    "ax[1].set_ylabel(\"Frequency\", fontsize=15)\n",
    "ax[0].legend(loc=\"upper right\", fontsize=13)\n",
    "ax[1].legend(loc=\"upper right\", fontsize=13)\n",
    "plt.xticks(np.arange(min(df['Q24'])-1000, max(df['Q24']), 20000), fontsize=12, rotation=45)\n",
    "plt.rc('ytick',labelsize=10)\n",
    "plt.xlabel(\"Salary ($USD)\", fontsize=15)\n",
    "fig.suptitle(\"Salary Distribution: Men VS. Women\", fontsize=17)\n",
    "fig.subplots_adjust(top=0.95)\n",
    "\n",
    "plt.show() "
   ]
  },
  {
   "cell_type": "markdown",
   "metadata": {},
   "source": [
    "c. Plot a bar graph showing age, grouped by gender"
   ]
  },
  {
   "cell_type": "code",
   "execution_count": 10,
   "metadata": {},
   "outputs": [
    {
     "data": {
      "text/plain": [
       "25-29    2350\n",
       "30-34    1979\n",
       "35-39    1467\n",
       "22-24    1424\n",
       "40-44    1042\n",
       "45-49     771\n",
       "50-54     536\n",
       "18-21     498\n",
       "60-69     309\n",
       "55-59     301\n",
       "70+        52\n",
       "Name: Q1, dtype: int64"
      ]
     },
     "execution_count": 10,
     "metadata": {},
     "output_type": "execute_result"
    }
   ],
   "source": [
    "# 1) Check how many categories exist for age and the frequency of each category\n",
    "\n",
    "age_data = df['Q1'].value_counts()\n",
    "age_data"
   ]
  },
  {
   "cell_type": "code",
   "execution_count": 11,
   "metadata": {},
   "outputs": [
    {
     "name": "stdout",
     "output_type": "stream",
     "text": [
      "[1897 1648 1210 1109  881  674  468  382  286  267   50]\n",
      "[416 299 292 234 147 103  82  61  25  22   2]\n"
     ]
    }
   ],
   "source": [
    "# 2) Extract data based on gender (man and woman ONLY)\n",
    "\n",
    "data3 = df[['Q1','Q2']] #Extracting the age, gender\n",
    "man_age = data3[data3.Q2 == \"Man\"] #Extracting rows with man ONLY\n",
    "woman_age = data3[data3.Q2 == \"Woman\"] #Extracting rows with woman ONLY\n",
    "\n",
    "man_age_val = man_age['Q1'].value_counts().to_numpy()\n",
    "woman_age_val = woman_age['Q1'].value_counts().to_numpy()\n",
    "\n",
    "print(man_age_val)\n",
    "print(woman_age_val)"
   ]
  },
  {
   "cell_type": "code",
   "execution_count": 12,
   "metadata": {},
   "outputs": [
    {
     "data": {
      "image/png": "[encoded data removed]",
      "text/plain": [
       "<Figure size 720x432 with 1 Axes>"
      ]
     },
     "metadata": {
      "needs_background": "light"
     },
     "output_type": "display_data"
    }
   ],
   "source": [
    "# 3) Plot the bar graph\n",
    "\n",
    "#Define a list of labels for defining x ticks\n",
    "age_cat = [\"18-21\",\"22-24\",\"25-29\",\"30-34\",\"35-39\",\"40-44\",\"45-49\",\"50-54\",\"55-59\",\"60-69\",\"70+\"] \n",
    "\n",
    "#Sort the age counts from the youngest to oldest\n",
    "man_age_sorted = [382,1109,1897,1648,1210,881,674,468,267,286,52] \n",
    "woman_age_sorted = [61,234,416,299,292,147,103,82,22,25,2]\n",
    "\n",
    "Y = np.arange(len(age_cat)) #define xtick values\n",
    "\n",
    "#Plot the bar graph\n",
    "fig = plt.figure(figsize=(10,6))\n",
    "ax = fig.add_axes([0,0,1,1])\n",
    "fig3 = ax.bar(Y-0.125, man_age_sorted, color = 'darkturquoise', width = 0.25)\n",
    "fig4 = ax.bar(Y+0.125, woman_age_sorted, color = 'salmon', width = 0.25)\n",
    "\n",
    "#Format the plot area\n",
    "ax.grid(axis='y', alpha=0.6)\n",
    "ax.legend(labels=['Men', 'Women'], fontsize = 13)\n",
    "ax.set_xticks(Y)\n",
    "ax.set_xticklabels([\"18-21\",\"22-24\",\"25-29\",\"30-34\",\"35-39\",\"40-44\",\n",
    "                    \"45-49\",\"50-54\",\"55-59\",\"60-69\",\"70+\"], rotation = 45, fontsize = 12)\n",
    "plt.yticks(fontsize=12)\n",
    "plt.xlabel(\"Age Groups\", fontsize=15)\n",
    "plt.ylabel(\"Counts\", fontsize=15)\n",
    "plt.title(\"Overview of Age: Men VS. Women\", fontsize=20)\n",
    "\n",
    "#Adding annotation to the plot\n",
    "def autolabel(figs):\n",
    "    for values in figs:\n",
    "        height = values.get_height()\n",
    "        ax.annotate('{}'.format(height),\n",
    "                    xy=(values.get_x() + values.get_width()/2, height),\n",
    "                    xytext=(0, 3),  #3 points vertical offset\n",
    "                    textcoords=\"offset points\",\n",
    "                    ha='center', va='bottom', fontsize=12)\n",
    "        \n",
    "autolabel(fig3)\n",
    "autolabel(fig4)\n",
    "\n",
    "plt.show()"
   ]
  },
  {
   "cell_type": "markdown",
   "metadata": {},
   "source": [
    "### 2. Estimating the difference between average salary (Q24) of men vs. women (Q2)"
   ]
  },
  {
   "cell_type": "markdown",
   "metadata": {},
   "source": [
    "a. Compute and report descriptive statistics for each group (remove missing data if necessary)"
   ]
  },
  {
   "cell_type": "code",
   "execution_count": 13,
   "metadata": {},
   "outputs": [
    {
     "data": {
      "text/html": [
       "<div>\n",
       "<style scoped>\n",
       "    .dataframe tbody tr th:only-of-type {\n",
       "        vertical-align: middle;\n",
       "    }\n",
       "\n",
       "    .dataframe tbody tr th {\n",
       "        vertical-align: top;\n",
       "    }\n",
       "\n",
       "    .dataframe thead th {\n",
       "        text-align: right;\n",
       "    }\n",
       "</style>\n",
       "<table border=\"1\" class=\"dataframe\">\n",
       "  <thead>\n",
       "    <tr style=\"text-align: right;\">\n",
       "      <th></th>\n",
       "      <th>Men</th>\n",
       "      <th>Women</th>\n",
       "    </tr>\n",
       "  </thead>\n",
       "  <tbody>\n",
       "    <tr>\n",
       "      <th>Missing Data</th>\n",
       "      <td>0.000000</td>\n",
       "      <td>0.000000</td>\n",
       "    </tr>\n",
       "    <tr>\n",
       "      <th>Valid Data</th>\n",
       "      <td>8872.000000</td>\n",
       "      <td>1683.000000</td>\n",
       "    </tr>\n",
       "    <tr>\n",
       "      <th>Maximum</th>\n",
       "      <td>500000.000000</td>\n",
       "      <td>500000.000000</td>\n",
       "    </tr>\n",
       "    <tr>\n",
       "      <th>Minimum</th>\n",
       "      <td>1000.000000</td>\n",
       "      <td>1000.000000</td>\n",
       "    </tr>\n",
       "    <tr>\n",
       "      <th>Mean</th>\n",
       "      <td>50750.619928</td>\n",
       "      <td>36417.112299</td>\n",
       "    </tr>\n",
       "    <tr>\n",
       "      <th>Standard Deviation</th>\n",
       "      <td>70344.010094</td>\n",
       "      <td>59425.053720</td>\n",
       "    </tr>\n",
       "    <tr>\n",
       "      <th>Median</th>\n",
       "      <td>25000.000000</td>\n",
       "      <td>7500.000000</td>\n",
       "    </tr>\n",
       "    <tr>\n",
       "      <th>25 Percentile</th>\n",
       "      <td>3000.000000</td>\n",
       "      <td>1000.000000</td>\n",
       "    </tr>\n",
       "    <tr>\n",
       "      <th>75 Percentile</th>\n",
       "      <td>70000.000000</td>\n",
       "      <td>50000.000000</td>\n",
       "    </tr>\n",
       "  </tbody>\n",
       "</table>\n",
       "</div>"
      ],
      "text/plain": [
       "                              Men          Women\n",
       "Missing Data             0.000000       0.000000\n",
       "Valid Data            8872.000000    1683.000000\n",
       "Maximum             500000.000000  500000.000000\n",
       "Minimum               1000.000000    1000.000000\n",
       "Mean                 50750.619928   36417.112299\n",
       "Standard Deviation   70344.010094   59425.053720\n",
       "Median               25000.000000    7500.000000\n",
       "25 Percentile         3000.000000    1000.000000\n",
       "75 Percentile        70000.000000   50000.000000"
      ]
     },
     "execution_count": 13,
     "metadata": {},
     "output_type": "execute_result"
    }
   ],
   "source": [
    "# Putting men and women salary data into dataframes\n",
    "man_sal_df = pd.DataFrame(data=man_sal['Q24'])\n",
    "woman_sal_df = pd.DataFrame(data=woman_sal['Q24'])\n",
    "\n",
    "# Checking again if there are missing values\n",
    "man_missing = man_sal_df[\"Q24\"].isnull().sum()\n",
    "woman_missing = woman_sal_df[\"Q24\"].isnull().sum()\n",
    "\n",
    "# Checking the number of valid datapoints for men and women salary after removing missing values if necessary\n",
    "man_sal_df = man_sal_df.dropna()\n",
    "woman_sal_df = woman_sal_df.dropna()\n",
    "man_valid = man_sal_df['Q24'].count()\n",
    "woman_valid = woman_sal_df['Q24'].count()\n",
    "\n",
    "# Calculate the mean for each group\n",
    "man_mean = np.mean(man_sal_df['Q24'])\n",
    "woman_mean = np.mean(woman_sal_df['Q24'])\n",
    "\n",
    "# Calculate the standard deviation for each group\n",
    "man_sd = np.std(man_sal_df['Q24'])\n",
    "woman_sd = np.std(woman_sal_df['Q24'])\n",
    "\n",
    "# Calculate the median for each group\n",
    "man_med = np.median(man_sal_df['Q24'])\n",
    "woman_med = np.median(woman_sal_df['Q24'])\n",
    "\n",
    "# Finding the min and max value for each group\n",
    "man_max = man_sal_df['Q24'].max()\n",
    "man_min = man_sal_df['Q24'].min()\n",
    "woman_max = woman_sal_df['Q24'].max()\n",
    "woman_min = woman_sal_df['Q24'].min()\n",
    "\n",
    "# Calculating percentile for each group\n",
    "man_25p = np.percentile(man_sal_df['Q24'], 25)\n",
    "man_75p = np.percentile(man_sal_df['Q24'], 75)\n",
    "woman_25p = np.percentile(woman_sal_df['Q24'], 25)\n",
    "woman_75p = np.percentile(woman_sal_df['Q24'], 75)\n",
    "\n",
    "# Putting all descriptive data into a dataframe\n",
    "man_des = [man_missing, man_valid, man_max, man_min, man_mean, man_sd, man_med, man_25p, man_75p]\n",
    "man_des = np.array(man_des).reshape(-1,1)\n",
    "woman_des = [woman_missing, woman_valid, woman_max, woman_min, woman_mean, woman_sd, woman_med, woman_25p, woman_75p]\n",
    "\n",
    "report_df = pd.DataFrame(data=man_des, columns=['Men'], index=['Missing Data', 'Valid Data', 'Maximum', 'Minimum',\n",
    "                                                                  'Mean', 'Standard Deviation', 'Median', '25 Percentile', '75 Percentile'])\n",
    "report_df['Women'] = woman_des\n",
    "\n",
    "report_df\n"
   ]
  },
  {
   "cell_type": "markdown",
   "metadata": {},
   "source": [
    "b. If suitable, perform a two-sample t-test with a 0.05 threshold. Explain your rationale."
   ]
  },
  {
   "cell_type": "markdown",
   "metadata": {},
   "source": [
    "It is deemed that a t-test is not suitable here because a t-test assumes normality and homogeneity of the variance.\n",
    "\n",
    "First of all, as shown in the histograms in Q1, the salary of men and women are not normally distributed but skewed towards the left. One main assumption of t-test is that the data have to have a normal distribution. Since this assumption is not met, a t-test would not provide reliable results here. \n",
    "\n",
    "Secondly, another assumption of t-test is the homogeneity of variance - meaning that the variance of the two groups should be homogenous/equal. Using the Levene test for testing variance homogeneity (demonstrated below), we can see the calculated p valud is smaller than 0.05, therefore we conclude that no homogeneity exists between the variance of men's and women's salary.\n",
    "\n",
    "In conclusion, a t-test is not suitable here and therefore is not performed."
   ]
  },
  {
   "cell_type": "code",
   "execution_count": 14,
   "metadata": {},
   "outputs": [
    {
     "name": "stdout",
     "output_type": "stream",
     "text": [
      "\n",
      "Levene test: W = 42.4153  p = 7.71697e-11\n",
      "\n",
      "Since the calculated p value is smaller than the threshold (0.05), we conclude that no homogeneity exists between the variance of men's and women's salary.\n"
     ]
    }
   ],
   "source": [
    "# Checking variance homogeneity using Levene test with a 0.05 confidence level\n",
    "\n",
    "w_sal, p_sal = stats.levene(man_sal_df['Q24'], woman_sal_df['Q24'])\n",
    "\n",
    "print (\"\\nLevene test: W = %g  p = %g\" % (w_sal, p_sal))\n",
    "\n",
    "if p_sal < 0.05:\n",
    "    print(\"\\nSince the calculated p value is smaller than the threshold (0.05), we conclude that no homogeneity exists between the variance of men's and women's salary.\")\n",
    "      "
   ]
  },
  {
   "cell_type": "markdown",
   "metadata": {},
   "source": [
    "c. Bootstrap your data for comparing the mean of salary for men and women. Use 1000 replications. Plot two bootstrap distributions (for men and women) and the distribution of the differences "
   ]
  },
  {
   "cell_type": "code",
   "execution_count": 15,
   "metadata": {},
   "outputs": [],
   "source": [
    "# Define empty arrays to store the mean values of bootstrap samples\n",
    "boot_means_man = []\n",
    "boot_means_woman = []\n",
    "boot_med_man = []\n",
    "boot_med_woman = []\n",
    "\n",
    "np.random.seed(0)\n",
    "\n",
    "# Perform bootstrapping\n",
    "for num in range(1000):\n",
    "    bootsample_man = np.random.choice(man_sal_df['Q24'], size=len(man_sal_df['Q24']), replace=True)\n",
    "    bootsample_woman = np.random.choice(woman_sal_df['Q24'], size=len(woman_sal_df['Q24']), replace=True)\n",
    "    \n",
    "    boot_means_man.append(bootsample_man.mean())\n",
    "    boot_means_woman.append(bootsample_woman.mean())\n",
    "    \n",
    "    boot_med_man.append(np.median(bootsample_man))\n",
    "    boot_med_woman.append(np.median(bootsample_woman))"
   ]
  },
  {
   "cell_type": "code",
   "execution_count": 16,
   "metadata": {},
   "outputs": [
    {
     "data": {
      "image/png": "[encoded data removed]",
      "text/plain": [
       "<Figure size 720x432 with 1 Axes>"
      ]
     },
     "metadata": {
      "needs_background": "light"
     },
     "output_type": "display_data"
    }
   ],
   "source": [
    "# Plotting the distribution of the means of men and women salary\n",
    "\n",
    "fig = plt.figure(figsize=(10,6))\n",
    "ax = fig.add_axes([0,0,1,1])\n",
    "ax.hist(boot_means_man, bins=50, alpha=0.7, rwidth=1,\n",
    "                color = 'darkturquoise', label=\"Men\")\n",
    "ax.hist(boot_means_woman, bins=50, alpha=0.7, rwidth=1,\n",
    "                color = 'salmon', label=\"women\")\n",
    "\n",
    "\n",
    "#Formatting plot area\n",
    "ax.grid(axis='y', alpha=0.6)\n",
    "ax.set_ylabel(\"Frequency\", fontsize=15)\n",
    "ax.legend(loc=\"upper right\", fontsize=13)\n",
    "plt.xticks(np.arange(min(boot_means_woman), max(boot_means_man)+1048, 1000), fontsize=12, rotation=45)\n",
    "plt.rc('ytick',labelsize=14)\n",
    "plt.xlabel(\"Salary ($USD)\", fontsize=15)\n",
    "plt.title(\"Distribution of Salary Mean: Men VS. Women\", fontsize=17)\n",
    "\n",
    "plt.show() "
   ]
  },
  {
   "cell_type": "code",
   "execution_count": 17,
   "metadata": {},
   "outputs": [
    {
     "data": {
      "image/png": "[encoded data removed]",
      "text/plain": [
       "<Figure size 720x432 with 1 Axes>"
      ]
     },
     "metadata": {
      "needs_background": "light"
     },
     "output_type": "display_data"
    }
   ],
   "source": [
    "# Plotting the difference of the mean of men and women salary\n",
    "\n",
    "# Converting the output to arrays\n",
    "\n",
    "boot_means_man_ar = np.array(boot_means_man).reshape(-1,1)\n",
    "boot_means_woman_ar = np.array(boot_means_woman).reshape(-1,1)\n",
    "\n",
    "# Determining the difference between mean salary of men and mean salary of women\n",
    "dif_means = boot_means_man_ar - boot_means_woman_ar\n",
    "\n",
    "# Plotting the distribution of the means of men and women salary\n",
    "\n",
    "fig = plt.figure(figsize=(10,6))\n",
    "ax = fig.add_axes([0,0,1,1])\n",
    "ax.hist(dif_means, bins=50, alpha=0.7, rwidth=1,\n",
    "                color = 'darkorange')\n",
    "\n",
    "#Formatting plot area\n",
    "ax.grid(axis='y', alpha=0.6)\n",
    "ax.set_ylabel(\"Frequency\", fontsize=15)\n",
    "plt.xticks(np.arange(min(dif_means), max(dif_means), 1000), fontsize=12, rotation=45)\n",
    "plt.rc('ytick',labelsize=14)\n",
    "plt.xlabel(\"Salary ($USD)\", fontsize=15)\n",
    "plt.title(\"Distribution of Differecne Between Mean Salary of Men and Women\", fontsize=17)\n",
    "\n",
    "plt.show() "
   ]
  },
  {
   "cell_type": "markdown",
   "metadata": {},
   "source": [
    "d. If suitable, perform a two-sample t-test on the bootstrap data with a 0.05 threshold."
   ]
  },
  {
   "cell_type": "code",
   "execution_count": 18,
   "metadata": {},
   "outputs": [
    {
     "name": "stdout",
     "output_type": "stream",
     "text": [
      "\n",
      "Levene test: W = 323.877  p = 3.15929e-67\n",
      "\n",
      "Since the calculated p value is smaller than the threshold (0.05), we conclude that no homogeneity exists between the variance of men's and women's salary.\n"
     ]
    }
   ],
   "source": [
    "# Checking variance homogeneity using Levene test with a 0.05 confidence level\n",
    "\n",
    "w_boot_sal, p_boot_sal = stats.levene(boot_means_man, boot_means_woman)\n",
    "\n",
    "print (\"\\nLevene test: W = %g  p = %g\" % (w_boot_sal, p_boot_sal))\n",
    "\n",
    "if p_boot_sal < 0.05:\n",
    "    print(\"\\nSince the calculated p value is smaller than the threshold (0.05), we conclude that no homogeneity exists between the variance of men's and women's salary.\")\n",
    "      "
   ]
  },
  {
   "cell_type": "markdown",
   "metadata": {},
   "source": [
    "Because no homogeneity exists between the variance of men's and women's salary, Welch's t-test is used here as it assumes unequal variance."
   ]
  },
  {
   "cell_type": "code",
   "execution_count": 19,
   "metadata": {},
   "outputs": [
    {
     "name": "stdout",
     "output_type": "stream",
     "text": [
      "\n",
      "Welch's t-test: t = 273.455  p = 0\n",
      "\n",
      "Since the calculated p value is smaller than the threshold (0.05), we conclude that men and women have differnet \n",
      "salary means.\n"
     ]
    }
   ],
   "source": [
    "# Welch's t-test, assuming unequal variance\n",
    "tc1_welch, pc1_welch = stats.ttest_ind(boot_means_man_ar, boot_means_woman_ar, equal_var=False)\n",
    "\n",
    "print (\"\\nWelch's t-test: t = %g  p = %g\" % (tc1_welch, pc1_welch))\n",
    "\n",
    "if pc1_welch < 0.05:\n",
    "    print(\"\\nSince the calculated p value is smaller than the threshold (0.05), we conclude that men and women have differnet \\nsalary means.\")\n",
    "    \n",
    "    "
   ]
  },
  {
   "cell_type": "markdown",
   "metadata": {},
   "source": [
    "e. Findings and comments. \n",
    "\n",
    "The p value for Levene test is smaller than 0.05, therefore H0 is rejected and we conclude that no homogeneity exists between the variances of salary mean of men and women. Thus, Welch's t-test is performed on bootstrapped data, which results in a p value of 0 (p<0.05). A p-value of 0 indicates that H0, that the salary means of men and women belong to the same distribution, should be rejected. In other words, men and women in the field of data science earn different average salaries, and women earn less than men, based on the histograms. \n",
    "\n",
    "In conclusion, this finding shows that a pay gap exists between male and female in the field of data science, reflecting that females are still underrepresented in high-paying job positions."
   ]
  },
  {
   "cell_type": "markdown",
   "metadata": {},
   "source": [
    "### 3. Repeat steps a to e above on \"high level of formal education\" (Q4). Use ANOVA for hypothesis testing to compare the means of salary for three groups (Bachelor's degree, Master's degree, and Doctoral degree)."
   ]
  },
  {
   "cell_type": "markdown",
   "metadata": {},
   "source": [
    "a. Compute and report descriptive statistics for each group, namely bachelor's, master's and doctoral\n",
    "(remove missing data if necessary)"
   ]
  },
  {
   "cell_type": "code",
   "execution_count": 20,
   "metadata": {},
   "outputs": [
    {
     "data": {
      "text/html": [
       "<div>\n",
       "<style scoped>\n",
       "    .dataframe tbody tr th:only-of-type {\n",
       "        vertical-align: middle;\n",
       "    }\n",
       "\n",
       "    .dataframe tbody tr th {\n",
       "        vertical-align: top;\n",
       "    }\n",
       "\n",
       "    .dataframe thead th {\n",
       "        text-align: right;\n",
       "    }\n",
       "</style>\n",
       "<table border=\"1\" class=\"dataframe\">\n",
       "  <thead>\n",
       "    <tr style=\"text-align: right;\">\n",
       "      <th></th>\n",
       "      <th>Bachelor's Degree</th>\n",
       "      <th>Master's Degree</th>\n",
       "      <th>Doctoral Degree</th>\n",
       "    </tr>\n",
       "  </thead>\n",
       "  <tbody>\n",
       "    <tr>\n",
       "      <th>Missing Data</th>\n",
       "      <td>0.000000</td>\n",
       "      <td>0.000000</td>\n",
       "      <td>0.000000</td>\n",
       "    </tr>\n",
       "    <tr>\n",
       "      <th>Valid Data</th>\n",
       "      <td>3013.000000</td>\n",
       "      <td>4879.000000</td>\n",
       "      <td>1718.000000</td>\n",
       "    </tr>\n",
       "    <tr>\n",
       "      <th>Maximum</th>\n",
       "      <td>500000.000000</td>\n",
       "      <td>500000.000000</td>\n",
       "      <td>500000.000000</td>\n",
       "    </tr>\n",
       "    <tr>\n",
       "      <th>Minimum</th>\n",
       "      <td>1000.000000</td>\n",
       "      <td>1000.000000</td>\n",
       "      <td>1000.000000</td>\n",
       "    </tr>\n",
       "    <tr>\n",
       "      <th>Mean</th>\n",
       "      <td>35732.824427</td>\n",
       "      <td>52120.106579</td>\n",
       "      <td>68719.441211</td>\n",
       "    </tr>\n",
       "    <tr>\n",
       "      <th>Standard Deviation</th>\n",
       "      <td>60237.754748</td>\n",
       "      <td>67674.635164</td>\n",
       "      <td>85378.791232</td>\n",
       "    </tr>\n",
       "    <tr>\n",
       "      <th>Median</th>\n",
       "      <td>10000.000000</td>\n",
       "      <td>25000.000000</td>\n",
       "      <td>40000.000000</td>\n",
       "    </tr>\n",
       "    <tr>\n",
       "      <th>25 Percentile</th>\n",
       "      <td>1000.000000</td>\n",
       "      <td>4000.000000</td>\n",
       "      <td>5000.000000</td>\n",
       "    </tr>\n",
       "    <tr>\n",
       "      <th>75 Percentile</th>\n",
       "      <td>50000.000000</td>\n",
       "      <td>70000.000000</td>\n",
       "      <td>90000.000000</td>\n",
       "    </tr>\n",
       "  </tbody>\n",
       "</table>\n",
       "</div>"
      ],
      "text/plain": [
       "                    Bachelor's Degree  Master's Degree  Doctoral Degree\n",
       "Missing Data                 0.000000         0.000000         0.000000\n",
       "Valid Data                3013.000000      4879.000000      1718.000000\n",
       "Maximum                 500000.000000    500000.000000    500000.000000\n",
       "Minimum                   1000.000000      1000.000000      1000.000000\n",
       "Mean                     35732.824427     52120.106579     68719.441211\n",
       "Standard Deviation       60237.754748     67674.635164     85378.791232\n",
       "Median                   10000.000000     25000.000000     40000.000000\n",
       "25 Percentile             1000.000000      4000.000000      5000.000000\n",
       "75 Percentile            50000.000000     70000.000000     90000.000000"
      ]
     },
     "execution_count": 20,
     "metadata": {},
     "output_type": "execute_result"
    }
   ],
   "source": [
    "# Extracting data on salary and education level, grouped by different levels of education (bachelor's, master's and doctoral)\n",
    "data4 = df[{'Q4','Q24'}]\n",
    "bach_df = data4[data4[\"Q4\"]==\"Bachelor’s degree\"]\n",
    "master_df = data4[data4[\"Q4\"]==\"Master’s degree\"]\n",
    "doc_df = data4[data4[\"Q4\"]==\"Doctoral degree\"]\n",
    "\n",
    "# Checking again if there are missing values\n",
    "bach_missing = bach_df[\"Q24\"].isnull().sum()\n",
    "master_missing = master_df[\"Q24\"].isnull().sum()\n",
    "doc_missing = doc_df[\"Q24\"].isnull().sum()\n",
    "\n",
    "# Checking the number of valid datapoints for men and women education after removing missing values if necessary\n",
    "bach_df = bach_df.dropna()\n",
    "master_df = master_df.dropna()\n",
    "doc_df = doc_df.dropna()\n",
    "\n",
    "bach_valid = bach_df['Q24'].count()\n",
    "master_valid = master_df['Q24'].count()\n",
    "doc_valid = doc_df['Q24'].count()\n",
    "\n",
    "# Calculate the mean for each group\n",
    "bach_mean = np.mean(bach_df['Q24'])\n",
    "master_mean = np.mean(master_df['Q24'])\n",
    "doc_mean = np.mean(doc_df['Q24'])\n",
    "\n",
    "# Calculate the standard deviation for each group\n",
    "bach_sd = np.std(bach_df['Q24'])\n",
    "master_sd = np.std(master_df['Q24'])\n",
    "doc_sd = np.std(doc_df['Q24'])\n",
    "\n",
    "# Calculate the median for each group\n",
    "bach_med = np.median(bach_df['Q24'])\n",
    "master_med = np.median(master_df['Q24'])\n",
    "doc_med = np.median(doc_df['Q24'])\n",
    "\n",
    "# Finding the min and max value for each group\n",
    "bach_max = bach_df['Q24'].max()\n",
    "bach_min = bach_df['Q24'].min()\n",
    "\n",
    "master_max = master_df['Q24'].max()\n",
    "master_min = master_df['Q24'].min()\n",
    "\n",
    "doc_max = doc_df['Q24'].max()\n",
    "doc_min = doc_df['Q24'].min()\n",
    "\n",
    "# Calculating percentile for each group\n",
    "bach_25p = np.percentile(bach_df['Q24'], 25)\n",
    "bach_75p = np.percentile(bach_df['Q24'], 75)\n",
    "\n",
    "master_25p = np.percentile(master_df['Q24'], 25)\n",
    "master_75p = np.percentile(master_df['Q24'], 75)\n",
    "\n",
    "doc_25p = np.percentile(doc_df['Q24'], 25)\n",
    "doc_75p = np.percentile(doc_df['Q24'], 75)\n",
    "\n",
    "# Putting all descriptive data into a dataframe\n",
    "bach_des = [bach_missing, bach_valid, bach_max, bach_min, bach_mean, bach_sd, bach_med, bach_25p, bach_75p]\n",
    "bach_des = np.array(bach_des).reshape(-1,1)\n",
    "master_des = [master_missing, master_valid, master_max, master_min, master_mean, \n",
    "              master_sd, master_med, master_25p, master_75p]\n",
    "doc_des = [doc_missing, doc_valid, doc_max, doc_min, doc_mean, \n",
    "              doc_sd, doc_med, doc_25p, doc_75p]\n",
    "\n",
    "report_df_2 = pd.DataFrame(data=bach_des, columns=[\"Bachelor's Degree\"], \n",
    "                         index=['Missing Data', 'Valid Data', 'Maximum', 'Minimum',\n",
    "                             'Mean', 'Standard Deviation', 'Median', '25 Percentile', '75 Percentile'])\n",
    "report_df_2[\"Master's Degree\"] = master_des\n",
    "report_df_2[\"Doctoral Degree\"] = doc_des\n",
    "\n",
    "report_df_2\n"
   ]
  },
  {
   "cell_type": "markdown",
   "metadata": {},
   "source": [
    "b. If suitable, perform an ANOVA with a 0.05 threshold. Explain your rationale."
   ]
  },
  {
   "cell_type": "code",
   "execution_count": 21,
   "metadata": {},
   "outputs": [
    {
     "data": {
      "image/png": "[encoded data removed]",
      "text/plain": [
       "<Figure size 1008x864 with 3 Axes>"
      ]
     },
     "metadata": {
      "needs_background": "light"
     },
     "output_type": "display_data"
    }
   ],
   "source": [
    "# Plotting to check for normality\n",
    "fig,ax = plt.subplots(3, sharex=False, figsize=(14,12))\n",
    "ax[0].hist(bach_df['Q24'], bins=50, alpha=0.7, rwidth=1,\n",
    "                color = 'royalblue')\n",
    "ax[1].hist(master_df['Q24'], bins=50, alpha=0.7, rwidth=1,\n",
    "                color = 'yellowgreen')\n",
    "ax[2].hist(doc_df['Q24'], bins=50, alpha=0.7, rwidth=1,\n",
    "                color = 'sandybrown')\n",
    "fig.tight_layout(pad=4.0)\n",
    "\n",
    "#Formatting plot area\n",
    "ax[0].grid(axis='y', alpha=0.6)\n",
    "ax[1].grid(axis='y', alpha=0.6)\n",
    "ax[2].grid(axis='y', alpha=0.6)\n",
    "ax[0].set_ylabel(\"Frequency\", fontsize=12)\n",
    "ax[1].set_ylabel(\"Frequency\", fontsize=12)\n",
    "ax[2].set_ylabel(\"Frequency\", fontsize=12)\n",
    "plt.rc('ytick',labelsize=12)\n",
    "plt.xlabel(\"Salary ($USD)\", fontsize=13)\n",
    "ax[0].set_title(\"Distribution of Salary of Bachelor's Degree\", fontsize = 15)\n",
    "ax[1].set_title(\"Distribution of Salary of Master's Degree\", fontsize = 15)\n",
    "ax[2].set_title(\"Distribution of Salary of Doctoral Degree\", fontsize = 15)\n",
    "\n",
    "plt.show() "
   ]
  },
  {
   "cell_type": "markdown",
   "metadata": {},
   "source": [
    "It is deemed that an ANOVA test is not suitable here because the one-way ANOVA test assumes normality and homogeneity of variance. \n",
    "\n",
    "As shown in the histograms above, the data are not normally distributed but skewed towards the left. \n",
    "\n",
    "Moreover, using the Levene test (demonstrated below), it is found that no homogeneity exists among the variance of these three groups.\n",
    "\n",
    "In conclusion, since the above conditions are not met, it is deemed that a one-way ANOVA test is not suitable here."
   ]
  },
  {
   "cell_type": "code",
   "execution_count": 22,
   "metadata": {},
   "outputs": [
    {
     "name": "stdout",
     "output_type": "stream",
     "text": [
      "\n",
      "Levene test: W = 90.8593  p = 8.1069e-40\n",
      "\n",
      "Since the calculated p value is smaller than the threshold (0.05), we conclude that no homogeneity exists between the variance of the salary of Bachelor's, Master's and Doctoral degree.\n"
     ]
    }
   ],
   "source": [
    "# Checking variance homogeneity using Levene test with a 0.05 confidence level\n",
    "\n",
    "w_sal_1, p_sal_1 = stats.levene(bach_df['Q24'], master_df['Q24'], doc_df['Q24'])\n",
    "\n",
    "print (\"\\nLevene test: W = %g  p = %g\" % (w_sal_1, p_sal_1))\n",
    "\n",
    "if p_sal_1 < 0.05:\n",
    "    print(\"\\nSince the calculated p value is smaller than the threshold (0.05), we conclude that no homogeneity exists between the variance of the salary of Bachelor's, Master's and Doctoral degree.\")\n",
    "      "
   ]
  },
  {
   "cell_type": "markdown",
   "metadata": {},
   "source": [
    "c. Bootstrap your data for comparing the mean of salary for men and women. Use 1000 replications. Plot three bootstrap distributions (for Bachelor's degree, Master's degree, Doctoral degree) and the distribution of the differences in mean. "
   ]
  },
  {
   "cell_type": "code",
   "execution_count": 23,
   "metadata": {},
   "outputs": [],
   "source": [
    "# Define empty arrays to store the mean values of bootstrap samples\n",
    "boot_means_bach = []\n",
    "boot_means_master = []\n",
    "boot_means_doc = []\n",
    "\n",
    "boot_med_bach = []\n",
    "boot_med_master = []\n",
    "boot_med_doc = []\n",
    "\n",
    "np.random.seed(0)\n",
    "\n",
    "for num in range(1000):\n",
    "    bootsample_bach = np.random.choice(bach_df['Q24'], size=len(bach_df['Q24']), replace=True)\n",
    "    bootsample_master = np.random.choice(master_df['Q24'], size=len(master_df['Q24']), replace=True)\n",
    "    bootsample_doc = np.random.choice(doc_df['Q24'], size=len(doc_df['Q24']), replace=True)\n",
    "    \n",
    "    boot_means_bach.append(bootsample_bach.mean())\n",
    "    boot_means_master.append(bootsample_master.mean())\n",
    "    boot_means_doc.append(bootsample_doc.mean())\n",
    "    \n",
    "    boot_med_bach.append(np.median(bootsample_bach))\n",
    "    boot_med_master.append(np.median(bootsample_master))\n",
    "    boot_med_doc.append(np.median(bootsample_doc))\n"
   ]
  },
  {
   "cell_type": "code",
   "execution_count": 24,
   "metadata": {},
   "outputs": [
    {
     "data": {
      "image/png": "[encoded data removed]",
      "text/plain": [
       "<Figure size 720x432 with 1 Axes>"
      ]
     },
     "metadata": {
      "needs_background": "light"
     },
     "output_type": "display_data"
    }
   ],
   "source": [
    "# Plotting the distribution of the means of Bachelor's degree, Master's degree and Doctoral degree\n",
    "\n",
    "fig = plt.figure(figsize=(10,6))\n",
    "ax = fig.add_axes([0,0,1,1])\n",
    "ax.hist(boot_means_bach, bins=50, alpha=0.7, rwidth=1,\n",
    "                color = 'cornflowerblue', label=\"Bachelor's\")\n",
    "ax.hist(boot_means_master, bins=50, alpha=0.7, rwidth=1,\n",
    "                color = 'mediumseagreen', label=\"Master's\")\n",
    "ax.hist(boot_means_doc, bins=50, alpha=0.7, rwidth=1,\n",
    "                color = 'orange', label=\"Doctoral\")\n",
    "\n",
    "#Formatting plot area\n",
    "ax.grid(axis='y', alpha=0.6)\n",
    "ax.set_ylabel(\"Frequency\", fontsize=15)\n",
    "ax.legend(loc=\"upper right\", fontsize=13)\n",
    "plt.xticks(np.arange(min(boot_means_bach), max(boot_means_doc), 2000), fontsize=12, rotation=45)\n",
    "plt.rc('ytick',labelsize=14)\n",
    "plt.xlabel(\"Salary ($USD)\", fontsize=15)\n",
    "plt.title(\"Distribution of Salary Mean: Bachelor's, Master's, Doctoral\", fontsize=17)\n",
    "\n",
    "plt.show() "
   ]
  },
  {
   "cell_type": "code",
   "execution_count": 25,
   "metadata": {},
   "outputs": [
    {
     "data": {
      "image/png": "[encoded data removed]",
      "text/plain": [
       "<Figure size 1008x864 with 3 Axes>"
      ]
     },
     "metadata": {
      "needs_background": "light"
     },
     "output_type": "display_data"
    }
   ],
   "source": [
    "# Plot the difference in salary mean between each group\n",
    "\n",
    "# Convert the output to array\n",
    "boot_means_bach_arr = np.array(boot_means_bach).reshape(-1,1)\n",
    "boot_means_master_arr = np.array(boot_means_master).reshape(-1,1)\n",
    "boot_means_doc_arr = np.array(boot_means_doc).reshape(-1,1)\n",
    "\n",
    "# Determine the difference in salary mean between each group\n",
    "dif_master_bach = boot_means_master_arr - boot_means_bach_arr\n",
    "dif_doc_bach = boot_means_doc_arr - boot_means_bach_arr\n",
    "dif_doc_master = boot_means_doc_arr - boot_means_master_arr\n",
    "\n",
    "# Plotting\n",
    "fig,ax = plt.subplots(3, sharex=False, figsize=(14,12))\n",
    "ax[0].hist(dif_master_bach, bins=50, alpha=0.7, rwidth=1,\n",
    "                color = 'royalblue')\n",
    "ax[1].hist(dif_doc_bach, bins=50, alpha=0.7, rwidth=1,\n",
    "                color = 'yellowgreen')\n",
    "ax[2].hist(dif_doc_master, bins=50, alpha=0.7, rwidth=1,\n",
    "                color = 'sandybrown')\n",
    "fig.tight_layout(pad=4.0)\n",
    "\n",
    "#Formatting plot area\n",
    "ax[0].grid(axis='y', alpha=0.6)\n",
    "ax[1].grid(axis='y', alpha=0.6)\n",
    "ax[2].grid(axis='y', alpha=0.6)\n",
    "ax[0].set_ylabel(\"Frequency\", fontsize=12)\n",
    "ax[1].set_ylabel(\"Frequency\", fontsize=12)\n",
    "ax[2].set_ylabel(\"Frequency\", fontsize=12)\n",
    "plt.rc('ytick',labelsize=12)\n",
    "plt.xlabel(\"Salary ($USD)\", fontsize=13)\n",
    "ax[0].set_title(\"Distribution of Differecne Between Mean Salary of Bachelor's Degree and Master's Degree\", fontsize = 15)\n",
    "ax[1].set_title(\"Distribution of Differecne Between Mean Salary of Bachelor's Degree and Doctoral Degree\", fontsize = 15)\n",
    "ax[2].set_title(\"Distribution of Differecne Between Mean Salary of Master's Degree and Doctoral Degree\", fontsize = 15)\n",
    "\n",
    "plt.show() "
   ]
  },
  {
   "cell_type": "markdown",
   "metadata": {},
   "source": [
    "d. If suitable, perform an ANOVA on the bootstrapped data. Explain your rationale."
   ]
  },
  {
   "cell_type": "code",
   "execution_count": 26,
   "metadata": {},
   "outputs": [
    {
     "name": "stdout",
     "output_type": "stream",
     "text": [
      "\n",
      "Levene test: W = 265.354  p = 7.89628e-107\n",
      "\n",
      "Since the calculated p value is smaller than the threshold (0.05), we conclude that no homogeneity exists between the variance of salary mean of Bachelor's, Master's and Doctoral degree.\n"
     ]
    }
   ],
   "source": [
    "# Checking variance homogeneity using Levene test with a 0.05 confidence level\n",
    "\n",
    "w_sal_2, p_sal_2 = stats.levene(boot_means_bach, boot_means_master, boot_means_doc)\n",
    "\n",
    "print (\"\\nLevene test: W = %g  p = %g\" % (w_sal_2, p_sal_2))\n",
    "\n",
    "if p_sal_2 < 0.05:\n",
    "    print(\"\\nSince the calculated p value is smaller than the threshold (0.05), we conclude that no homogeneity exists between the variance of salary mean of Bachelor's, Master's and Doctoral degree.\")\n",
    "      "
   ]
  },
  {
   "cell_type": "markdown",
   "metadata": {},
   "source": [
    "It is deemed that an ANOVA test is not suitable here. Althought the bootstrapped data display normality, as can be seen from the histograms, no homogeneity is found among the variance of the salary mean of these three groups. Therefore, the assumption of homogeneity of variance cannot be met. \n",
    "\n",
    "Instead, the non-parametric ANOVA, Kruskal-Wallis h-test is used, since it does not assume equal variance but does not assume any specific distributino either."
   ]
  },
  {
   "cell_type": "code",
   "execution_count": 27,
   "metadata": {},
   "outputs": [
    {
     "name": "stdout",
     "output_type": "stream",
     "text": [
      "One-way ANOVA: F = 354.125  p = 1.2669e-77\n",
      "\n",
      "Since the calculated p value is smaller than the threshold (0.05), we conclude that the mean salaries of the Bachelor's degree, Master's degree and Doctoral degree are different.\n"
     ]
    }
   ],
   "source": [
    "# Using Kruskal-Wallis H-test\n",
    "\n",
    "Fc_krusk, pc_krusk = stats.kruskal(bach_df['Q24'], master_df['Q24'], doc_df['Q24'])\n",
    "print (\"One-way ANOVA: F = %g  p = %g\" % (Fc_krusk, pc_krusk))\n",
    "\n",
    "if pc_krusk < 0.05:\n",
    "    print(\"\\nSince the calculated p value is smaller than the threshold (0.05), we conclude that the mean salaries of the Bachelor's degree, Master's degree and Doctoral degree are different.\")\n",
    "    "
   ]
  },
  {
   "cell_type": "markdown",
   "metadata": {},
   "source": [
    "Because the distribution of bootstrapped data seems to display normality, as shown in the histograms above, Welch's ANOVA is also performed because it assumes normality and unequal variance. Welch's ANOVA is performed here to provide more insights into the mean salaries of Bachelor's, Master's and Doctoral degree. "
   ]
  },
  {
   "cell_type": "code",
   "execution_count": 28,
   "metadata": {},
   "outputs": [
    {
     "name": "stdout",
     "output_type": "stream",
     "text": [
      "Requirement already satisfied: pingouin in /opt/anaconda3/lib/python3.8/site-packages (0.3.10)\n",
      "Requirement already satisfied: scikit-learn in /opt/anaconda3/lib/python3.8/site-packages (from pingouin) (0.23.1)\n",
      "Requirement already satisfied: scipy>=1.3 in /opt/anaconda3/lib/python3.8/site-packages (from pingouin) (1.5.0)\n",
      "Requirement already satisfied: seaborn>=0.9.0 in /opt/anaconda3/lib/python3.8/site-packages (from pingouin) (0.10.1)\n",
      "Requirement already satisfied: outdated in /opt/anaconda3/lib/python3.8/site-packages (from pingouin) (0.2.0)\n",
      "Requirement already satisfied: matplotlib>=3.0.2 in /opt/anaconda3/lib/python3.8/site-packages (from pingouin) (3.2.2)\n",
      "Requirement already satisfied: pandas-flavor>=0.1.2 in /opt/anaconda3/lib/python3.8/site-packages (from pingouin) (0.2.0)\n",
      "Requirement already satisfied: statsmodels>=0.10.0 in /opt/anaconda3/lib/python3.8/site-packages (from pingouin) (0.11.1)\n",
      "Requirement already satisfied: numpy>=1.15 in /opt/anaconda3/lib/python3.8/site-packages (from pingouin) (1.18.5)\n",
      "Requirement already satisfied: pandas>=0.24 in /opt/anaconda3/lib/python3.8/site-packages (from pingouin) (1.0.5)\n",
      "Requirement already satisfied: tabulate in /opt/anaconda3/lib/python3.8/site-packages (from pingouin) (0.8.7)\n",
      "Requirement already satisfied: joblib>=0.11 in /opt/anaconda3/lib/python3.8/site-packages (from scikit-learn->pingouin) (0.16.0)\n",
      "Requirement already satisfied: threadpoolctl>=2.0.0 in /opt/anaconda3/lib/python3.8/site-packages (from scikit-learn->pingouin) (2.1.0)\n",
      "Requirement already satisfied: requests in /opt/anaconda3/lib/python3.8/site-packages (from outdated->pingouin) (2.24.0)\n",
      "Requirement already satisfied: littleutils in /opt/anaconda3/lib/python3.8/site-packages (from outdated->pingouin) (0.2.2)\n",
      "Requirement already satisfied: cycler>=0.10 in /opt/anaconda3/lib/python3.8/site-packages (from matplotlib>=3.0.2->pingouin) (0.10.0)\n",
      "Requirement already satisfied: python-dateutil>=2.1 in /opt/anaconda3/lib/python3.8/site-packages (from matplotlib>=3.0.2->pingouin) (2.8.1)\n",
      "Requirement already satisfied: kiwisolver>=1.0.1 in /opt/anaconda3/lib/python3.8/site-packages (from matplotlib>=3.0.2->pingouin) (1.2.0)\n",
      "Requirement already satisfied: pyparsing!=2.0.4,!=2.1.2,!=2.1.6,>=2.0.1 in /opt/anaconda3/lib/python3.8/site-packages (from matplotlib>=3.0.2->pingouin) (2.4.7)\n",
      "Requirement already satisfied: xarray in /opt/anaconda3/lib/python3.8/site-packages (from pandas-flavor>=0.1.2->pingouin) (0.16.2)\n",
      "Requirement already satisfied: patsy>=0.5 in /opt/anaconda3/lib/python3.8/site-packages (from statsmodels>=0.10.0->pingouin) (0.5.1)\n",
      "Requirement already satisfied: pytz>=2017.2 in /opt/anaconda3/lib/python3.8/site-packages (from pandas>=0.24->pingouin) (2020.1)\n",
      "Requirement already satisfied: chardet<4,>=3.0.2 in /opt/anaconda3/lib/python3.8/site-packages (from requests->outdated->pingouin) (3.0.4)\n",
      "Requirement already satisfied: urllib3!=1.25.0,!=1.25.1,<1.26,>=1.21.1 in /opt/anaconda3/lib/python3.8/site-packages (from requests->outdated->pingouin) (1.25.9)\n",
      "Requirement already satisfied: idna<3,>=2.5 in /opt/anaconda3/lib/python3.8/site-packages (from requests->outdated->pingouin) (2.10)\n",
      "Requirement already satisfied: certifi>=2017.4.17 in /opt/anaconda3/lib/python3.8/site-packages (from requests->outdated->pingouin) (2020.6.20)\n",
      "Requirement already satisfied: six in /opt/anaconda3/lib/python3.8/site-packages (from cycler>=0.10->matplotlib>=3.0.2->pingouin) (1.15.0)\n",
      "Requirement already satisfied: setuptools>=38.4 in /opt/anaconda3/lib/python3.8/site-packages (from xarray->pandas-flavor>=0.1.2->pingouin) (49.2.0.post20200714)\n"
     ]
    }
   ],
   "source": [
    "# Install pingouin module which contains Welch's ANOVA test\n",
    "\n",
    "!pip install pingouin\n",
    "from pingouin import welch_anova"
   ]
  },
  {
   "cell_type": "code",
   "execution_count": 29,
   "metadata": {
    "scrolled": true
   },
   "outputs": [
    {
     "data": {
      "text/html": [
       "<div>\n",
       "<style scoped>\n",
       "    .dataframe tbody tr th:only-of-type {\n",
       "        vertical-align: middle;\n",
       "    }\n",
       "\n",
       "    .dataframe tbody tr th {\n",
       "        vertical-align: top;\n",
       "    }\n",
       "\n",
       "    .dataframe thead th {\n",
       "        text-align: right;\n",
       "    }\n",
       "</style>\n",
       "<table border=\"1\" class=\"dataframe\">\n",
       "  <thead>\n",
       "    <tr style=\"text-align: right;\">\n",
       "      <th></th>\n",
       "      <th>Salary Mean</th>\n",
       "      <th>Group</th>\n",
       "    </tr>\n",
       "  </thead>\n",
       "  <tbody>\n",
       "    <tr>\n",
       "      <th>0</th>\n",
       "      <td>36719.548623</td>\n",
       "      <td>Bachelor's Degree</td>\n",
       "    </tr>\n",
       "    <tr>\n",
       "      <th>1</th>\n",
       "      <td>35072.685032</td>\n",
       "      <td>Bachelor's Degree</td>\n",
       "    </tr>\n",
       "    <tr>\n",
       "      <th>2</th>\n",
       "      <td>34803.684036</td>\n",
       "      <td>Bachelor's Degree</td>\n",
       "    </tr>\n",
       "    <tr>\n",
       "      <th>3</th>\n",
       "      <td>35658.645868</td>\n",
       "      <td>Bachelor's Degree</td>\n",
       "    </tr>\n",
       "    <tr>\n",
       "      <th>4</th>\n",
       "      <td>35988.715566</td>\n",
       "      <td>Bachelor's Degree</td>\n",
       "    </tr>\n",
       "    <tr>\n",
       "      <th>...</th>\n",
       "      <td>...</td>\n",
       "      <td>...</td>\n",
       "    </tr>\n",
       "    <tr>\n",
       "      <th>995</th>\n",
       "      <td>69836.437718</td>\n",
       "      <td>Doctoral Degree</td>\n",
       "    </tr>\n",
       "    <tr>\n",
       "      <th>996</th>\n",
       "      <td>70877.473807</td>\n",
       "      <td>Doctoral Degree</td>\n",
       "    </tr>\n",
       "    <tr>\n",
       "      <th>997</th>\n",
       "      <td>68970.314319</td>\n",
       "      <td>Doctoral Degree</td>\n",
       "    </tr>\n",
       "    <tr>\n",
       "      <th>998</th>\n",
       "      <td>69937.136205</td>\n",
       "      <td>Doctoral Degree</td>\n",
       "    </tr>\n",
       "    <tr>\n",
       "      <th>999</th>\n",
       "      <td>70319.266589</td>\n",
       "      <td>Doctoral Degree</td>\n",
       "    </tr>\n",
       "  </tbody>\n",
       "</table>\n",
       "<p>3000 rows × 2 columns</p>\n",
       "</div>"
      ],
      "text/plain": [
       "      Salary Mean              Group\n",
       "0    36719.548623  Bachelor's Degree\n",
       "1    35072.685032  Bachelor's Degree\n",
       "2    34803.684036  Bachelor's Degree\n",
       "3    35658.645868  Bachelor's Degree\n",
       "4    35988.715566  Bachelor's Degree\n",
       "..            ...                ...\n",
       "995  69836.437718    Doctoral Degree\n",
       "996  70877.473807    Doctoral Degree\n",
       "997  68970.314319    Doctoral Degree\n",
       "998  69937.136205    Doctoral Degree\n",
       "999  70319.266589    Doctoral Degree\n",
       "\n",
       "[3000 rows x 2 columns]"
      ]
     },
     "execution_count": 29,
     "metadata": {},
     "output_type": "execute_result"
    }
   ],
   "source": [
    "# Putting bootstrapped data into a data frame for Welch's ANOVA test's input\n",
    "boot_means_bach_df = pd.DataFrame(data=boot_means_bach, columns=[\"Salary Mean\"])\n",
    "boot_means_bach_df['Group']=\"Bachelor's Degree\"\n",
    "\n",
    "boot_means_master_df = pd.DataFrame(data=boot_means_master, columns=[\"Salary Mean\"])\n",
    "boot_means_master_df['Group']=\"Master's Degree\"\n",
    "\n",
    "boot_means_doc_df = pd.DataFrame(data=boot_means_doc, columns=[\"Salary Mean\"])\n",
    "boot_means_doc_df['Group']=\"Doctoral Degree\"\n",
    "\n",
    "aov_df = boot_means_bach_df.append(boot_means_master_df)\n",
    "aov_df = aov_df.append(boot_means_doc_df)\n",
    "aov_df"
   ]
  },
  {
   "cell_type": "code",
   "execution_count": 30,
   "metadata": {},
   "outputs": [
    {
     "data": {
      "text/html": [
       "<div>\n",
       "<style scoped>\n",
       "    .dataframe tbody tr th:only-of-type {\n",
       "        vertical-align: middle;\n",
       "    }\n",
       "\n",
       "    .dataframe tbody tr th {\n",
       "        vertical-align: top;\n",
       "    }\n",
       "\n",
       "    .dataframe thead th {\n",
       "        text-align: right;\n",
       "    }\n",
       "</style>\n",
       "<table border=\"1\" class=\"dataframe\">\n",
       "  <thead>\n",
       "    <tr style=\"text-align: right;\">\n",
       "      <th></th>\n",
       "      <th>Source</th>\n",
       "      <th>ddof1</th>\n",
       "      <th>ddof2</th>\n",
       "      <th>F</th>\n",
       "      <th>p-unc</th>\n",
       "      <th>np2</th>\n",
       "    </tr>\n",
       "  </thead>\n",
       "  <tbody>\n",
       "    <tr>\n",
       "      <th>0</th>\n",
       "      <td>Group</td>\n",
       "      <td>2</td>\n",
       "      <td>1899.154165</td>\n",
       "      <td>122776.845494</td>\n",
       "      <td>0.0</td>\n",
       "      <td>0.988668</td>\n",
       "    </tr>\n",
       "  </tbody>\n",
       "</table>\n",
       "</div>"
      ],
      "text/plain": [
       "  Source  ddof1        ddof2              F  p-unc       np2\n",
       "0  Group      2  1899.154165  122776.845494    0.0  0.988668"
      ]
     },
     "execution_count": 30,
     "metadata": {},
     "output_type": "execute_result"
    }
   ],
   "source": [
    "# Perform Welch's ANOVA test, with the dependent variable being salary, and the between factor being the three degrees\n",
    "\n",
    "Wel_Aov = welch_anova(data=aov_df, dv='Salary Mean', between='Group')\n",
    "Wel_Aov"
   ]
  },
  {
   "cell_type": "code",
   "execution_count": 31,
   "metadata": {},
   "outputs": [
    {
     "name": "stdout",
     "output_type": "stream",
     "text": [
      "\n",
      "Since the calculated p value is smaller than the threshold (0.05), we conclude that the mean salaries of the Bachelor's degree, Master's degree and Doctoral degree are different.\n"
     ]
    }
   ],
   "source": [
    "if Wel_Aov['p-unc'][0] < 0.05:\n",
    "    print(\"\\nSince the calculated p value is smaller than the threshold (0.05), we conclude that the mean salaries of the Bachelor's degree, Master's degree and Doctoral degree are different.\")\n",
    "    "
   ]
  },
  {
   "cell_type": "markdown",
   "metadata": {},
   "source": [
    "e. The p value for the two Levene tests are both smaller than 0.05, therefore H0 for each test is rejected and we conclude that no homogeneity exists between the variances of salaries of men and women, and between the variances of salary means of men and women. Thus, a non-parametric ANOVA, Kruskal-Wallis h-test, is performed on bootstrapped data because this test does not assume equal variances. However, it does not assume any specific data distribution either. The resulting p value for Kruskal-Wallis h-test is 1.2669e-77 (p<0.05), indicating that H0, that the salary means of individuals with a Bachelor's degree, a Master's degree and a Doctoral degree belong to the same distribution, should be rejected. To provide more insights, a Welch's ANOVA is performed on the bootstrapped data, because this test does not assume equal variances, but it does assume normality. Since the bootstrapped data display normality as shown in the histograms, a Welch's ANOVA is deemed suitable here. The test results a p value of 0, confirming that H0, that the salary means of individuals with a Bachelor's degree, a Master's degree and a Doctoral degree belong to the same distribution, should be rejected. In other words, individuals with a Bachelor's degree, a Master's degree and a Doctoral degree in the field of data science earn different average salaries. Based on the histograms, individuals with a Doctoral degree earns the highest salaries, followed by a Master's degree and then a Bachelor's degree. \n",
    "\n",
    "In conclusion, level of education does have an effect on the average salaries of individuals in the field of data science and higher education usually leads to better pay."
   ]
  }
 ],
 "metadata": {
  "kernelspec": {
   "display_name": "Python 3 (ipykernel)",
   "language": "python",
   "name": "python3"
  },
  "language_info": {
   "codemirror_mode": {
    "name": "ipython",
    "version": 3
   },
   "file_extension": ".py",
   "mimetype": "text/x-python",
   "name": "python",
   "nbconvert_exporter": "python",
   "pygments_lexer": "ipython3",
   "version": "3.9.7"
  }
 },
 "nbformat": 4,
 "nbformat_minor": 4
}
